{
 "cells": [
  {
   "cell_type": "code",
   "execution_count": 1,
   "id": "41c8605c",
   "metadata": {},
   "outputs": [],
   "source": [
    "import pandas as pd\n",
    "import numpy as np\n",
    "import matplotlib.pyplot as plt\n",
    "import seaborn as sns"
   ]
  },
  {
   "cell_type": "code",
   "execution_count": 2,
   "id": "b3487574",
   "metadata": {},
   "outputs": [],
   "source": [
    "df=pd.read_csv(r'C:\\Users\\archa\\OneDrive\\Desktop\\New folder\\Walmart_data.csv')"
   ]
  },
  {
   "cell_type": "code",
   "execution_count": 3,
   "id": "19986bfc",
   "metadata": {},
   "outputs": [
    {
     "data": {
      "text/html": [
       "<div>\n",
       "<style scoped>\n",
       "    .dataframe tbody tr th:only-of-type {\n",
       "        vertical-align: middle;\n",
       "    }\n",
       "\n",
       "    .dataframe tbody tr th {\n",
       "        vertical-align: top;\n",
       "    }\n",
       "\n",
       "    .dataframe thead th {\n",
       "        text-align: right;\n",
       "    }\n",
       "</style>\n",
       "<table border=\"1\" class=\"dataframe\">\n",
       "  <thead>\n",
       "    <tr style=\"text-align: right;\">\n",
       "      <th></th>\n",
       "      <th>User_ID</th>\n",
       "      <th>Product_ID</th>\n",
       "      <th>Gender</th>\n",
       "      <th>Age</th>\n",
       "      <th>Occupation</th>\n",
       "      <th>City_Category</th>\n",
       "      <th>Stay_In_Current_City_Years</th>\n",
       "      <th>Marital_Status</th>\n",
       "      <th>Product_Category</th>\n",
       "      <th>Purchase</th>\n",
       "    </tr>\n",
       "  </thead>\n",
       "  <tbody>\n",
       "    <tr>\n",
       "      <th>0</th>\n",
       "      <td>1000001</td>\n",
       "      <td>P00069042</td>\n",
       "      <td>F</td>\n",
       "      <td>0-17</td>\n",
       "      <td>10</td>\n",
       "      <td>A</td>\n",
       "      <td>2</td>\n",
       "      <td>0</td>\n",
       "      <td>3</td>\n",
       "      <td>8370</td>\n",
       "    </tr>\n",
       "    <tr>\n",
       "      <th>1</th>\n",
       "      <td>1000001</td>\n",
       "      <td>P00248942</td>\n",
       "      <td>F</td>\n",
       "      <td>0-17</td>\n",
       "      <td>10</td>\n",
       "      <td>A</td>\n",
       "      <td>2</td>\n",
       "      <td>0</td>\n",
       "      <td>1</td>\n",
       "      <td>15200</td>\n",
       "    </tr>\n",
       "    <tr>\n",
       "      <th>2</th>\n",
       "      <td>1000001</td>\n",
       "      <td>P00087842</td>\n",
       "      <td>F</td>\n",
       "      <td>0-17</td>\n",
       "      <td>10</td>\n",
       "      <td>A</td>\n",
       "      <td>2</td>\n",
       "      <td>0</td>\n",
       "      <td>12</td>\n",
       "      <td>1422</td>\n",
       "    </tr>\n",
       "    <tr>\n",
       "      <th>3</th>\n",
       "      <td>1000001</td>\n",
       "      <td>P00085442</td>\n",
       "      <td>F</td>\n",
       "      <td>0-17</td>\n",
       "      <td>10</td>\n",
       "      <td>A</td>\n",
       "      <td>2</td>\n",
       "      <td>0</td>\n",
       "      <td>12</td>\n",
       "      <td>1057</td>\n",
       "    </tr>\n",
       "    <tr>\n",
       "      <th>4</th>\n",
       "      <td>1000002</td>\n",
       "      <td>P00285442</td>\n",
       "      <td>M</td>\n",
       "      <td>55+</td>\n",
       "      <td>16</td>\n",
       "      <td>C</td>\n",
       "      <td>4+</td>\n",
       "      <td>0</td>\n",
       "      <td>8</td>\n",
       "      <td>7969</td>\n",
       "    </tr>\n",
       "    <tr>\n",
       "      <th>...</th>\n",
       "      <td>...</td>\n",
       "      <td>...</td>\n",
       "      <td>...</td>\n",
       "      <td>...</td>\n",
       "      <td>...</td>\n",
       "      <td>...</td>\n",
       "      <td>...</td>\n",
       "      <td>...</td>\n",
       "      <td>...</td>\n",
       "      <td>...</td>\n",
       "    </tr>\n",
       "    <tr>\n",
       "      <th>550063</th>\n",
       "      <td>1006033</td>\n",
       "      <td>P00372445</td>\n",
       "      <td>M</td>\n",
       "      <td>51-55</td>\n",
       "      <td>13</td>\n",
       "      <td>B</td>\n",
       "      <td>1</td>\n",
       "      <td>1</td>\n",
       "      <td>20</td>\n",
       "      <td>368</td>\n",
       "    </tr>\n",
       "    <tr>\n",
       "      <th>550064</th>\n",
       "      <td>1006035</td>\n",
       "      <td>P00375436</td>\n",
       "      <td>F</td>\n",
       "      <td>26-35</td>\n",
       "      <td>1</td>\n",
       "      <td>C</td>\n",
       "      <td>3</td>\n",
       "      <td>0</td>\n",
       "      <td>20</td>\n",
       "      <td>371</td>\n",
       "    </tr>\n",
       "    <tr>\n",
       "      <th>550065</th>\n",
       "      <td>1006036</td>\n",
       "      <td>P00375436</td>\n",
       "      <td>F</td>\n",
       "      <td>26-35</td>\n",
       "      <td>15</td>\n",
       "      <td>B</td>\n",
       "      <td>4+</td>\n",
       "      <td>1</td>\n",
       "      <td>20</td>\n",
       "      <td>137</td>\n",
       "    </tr>\n",
       "    <tr>\n",
       "      <th>550066</th>\n",
       "      <td>1006038</td>\n",
       "      <td>P00375436</td>\n",
       "      <td>F</td>\n",
       "      <td>55+</td>\n",
       "      <td>1</td>\n",
       "      <td>C</td>\n",
       "      <td>2</td>\n",
       "      <td>0</td>\n",
       "      <td>20</td>\n",
       "      <td>365</td>\n",
       "    </tr>\n",
       "    <tr>\n",
       "      <th>550067</th>\n",
       "      <td>1006039</td>\n",
       "      <td>P00371644</td>\n",
       "      <td>F</td>\n",
       "      <td>46-50</td>\n",
       "      <td>0</td>\n",
       "      <td>B</td>\n",
       "      <td>4+</td>\n",
       "      <td>1</td>\n",
       "      <td>20</td>\n",
       "      <td>490</td>\n",
       "    </tr>\n",
       "  </tbody>\n",
       "</table>\n",
       "<p>550068 rows × 10 columns</p>\n",
       "</div>"
      ],
      "text/plain": [
       "        User_ID Product_ID Gender    Age  Occupation City_Category  \\\n",
       "0       1000001  P00069042      F   0-17          10             A   \n",
       "1       1000001  P00248942      F   0-17          10             A   \n",
       "2       1000001  P00087842      F   0-17          10             A   \n",
       "3       1000001  P00085442      F   0-17          10             A   \n",
       "4       1000002  P00285442      M    55+          16             C   \n",
       "...         ...        ...    ...    ...         ...           ...   \n",
       "550063  1006033  P00372445      M  51-55          13             B   \n",
       "550064  1006035  P00375436      F  26-35           1             C   \n",
       "550065  1006036  P00375436      F  26-35          15             B   \n",
       "550066  1006038  P00375436      F    55+           1             C   \n",
       "550067  1006039  P00371644      F  46-50           0             B   \n",
       "\n",
       "       Stay_In_Current_City_Years  Marital_Status  Product_Category  Purchase  \n",
       "0                               2               0                 3      8370  \n",
       "1                               2               0                 1     15200  \n",
       "2                               2               0                12      1422  \n",
       "3                               2               0                12      1057  \n",
       "4                              4+               0                 8      7969  \n",
       "...                           ...             ...               ...       ...  \n",
       "550063                          1               1                20       368  \n",
       "550064                          3               0                20       371  \n",
       "550065                         4+               1                20       137  \n",
       "550066                          2               0                20       365  \n",
       "550067                         4+               1                20       490  \n",
       "\n",
       "[550068 rows x 10 columns]"
      ]
     },
     "execution_count": 3,
     "metadata": {},
     "output_type": "execute_result"
    }
   ],
   "source": [
    "df"
   ]
  },
  {
   "cell_type": "code",
   "execution_count": 4,
   "id": "c4d86c6d",
   "metadata": {},
   "outputs": [
    {
     "data": {
      "text/plain": [
       "array([ 3,  1, 12,  8,  5,  4,  2,  6, 14, 11, 13, 15,  7, 16, 18, 10, 17,\n",
       "        9, 20, 19], dtype=int64)"
      ]
     },
     "execution_count": 4,
     "metadata": {},
     "output_type": "execute_result"
    }
   ],
   "source": [
    "df['Product_Category'].unique()"
   ]
  },
  {
   "cell_type": "code",
   "execution_count": 5,
   "id": "aa3edc69",
   "metadata": {},
   "outputs": [
    {
     "data": {
      "text/plain": [
       "array(['A', 'C', 'B'], dtype=object)"
      ]
     },
     "execution_count": 5,
     "metadata": {},
     "output_type": "execute_result"
    }
   ],
   "source": [
    "df['City_Category'].unique()"
   ]
  },
  {
   "cell_type": "code",
   "execution_count": 6,
   "id": "999b30fe",
   "metadata": {},
   "outputs": [
    {
     "data": {
      "text/plain": [
       "(550068, 10)"
      ]
     },
     "execution_count": 6,
     "metadata": {},
     "output_type": "execute_result"
    }
   ],
   "source": [
    "df.shape"
   ]
  },
  {
   "cell_type": "code",
   "execution_count": 7,
   "id": "3197894c",
   "metadata": {},
   "outputs": [
    {
     "data": {
      "text/html": [
       "<div>\n",
       "<style scoped>\n",
       "    .dataframe tbody tr th:only-of-type {\n",
       "        vertical-align: middle;\n",
       "    }\n",
       "\n",
       "    .dataframe tbody tr th {\n",
       "        vertical-align: top;\n",
       "    }\n",
       "\n",
       "    .dataframe thead th {\n",
       "        text-align: right;\n",
       "    }\n",
       "</style>\n",
       "<table border=\"1\" class=\"dataframe\">\n",
       "  <thead>\n",
       "    <tr style=\"text-align: right;\">\n",
       "      <th></th>\n",
       "      <th>User_ID</th>\n",
       "      <th>Product_ID</th>\n",
       "      <th>Gender</th>\n",
       "      <th>Age</th>\n",
       "      <th>Occupation</th>\n",
       "      <th>City_Category</th>\n",
       "      <th>Stay_In_Current_City_Years</th>\n",
       "      <th>Marital_Status</th>\n",
       "      <th>Product_Category</th>\n",
       "      <th>Purchase</th>\n",
       "    </tr>\n",
       "  </thead>\n",
       "  <tbody>\n",
       "    <tr>\n",
       "      <th>0</th>\n",
       "      <td>1000001</td>\n",
       "      <td>P00069042</td>\n",
       "      <td>F</td>\n",
       "      <td>0-17</td>\n",
       "      <td>10</td>\n",
       "      <td>A</td>\n",
       "      <td>2</td>\n",
       "      <td>0</td>\n",
       "      <td>3</td>\n",
       "      <td>8370</td>\n",
       "    </tr>\n",
       "    <tr>\n",
       "      <th>1</th>\n",
       "      <td>1000001</td>\n",
       "      <td>P00248942</td>\n",
       "      <td>F</td>\n",
       "      <td>0-17</td>\n",
       "      <td>10</td>\n",
       "      <td>A</td>\n",
       "      <td>2</td>\n",
       "      <td>0</td>\n",
       "      <td>1</td>\n",
       "      <td>15200</td>\n",
       "    </tr>\n",
       "    <tr>\n",
       "      <th>2</th>\n",
       "      <td>1000001</td>\n",
       "      <td>P00087842</td>\n",
       "      <td>F</td>\n",
       "      <td>0-17</td>\n",
       "      <td>10</td>\n",
       "      <td>A</td>\n",
       "      <td>2</td>\n",
       "      <td>0</td>\n",
       "      <td>12</td>\n",
       "      <td>1422</td>\n",
       "    </tr>\n",
       "    <tr>\n",
       "      <th>3</th>\n",
       "      <td>1000001</td>\n",
       "      <td>P00085442</td>\n",
       "      <td>F</td>\n",
       "      <td>0-17</td>\n",
       "      <td>10</td>\n",
       "      <td>A</td>\n",
       "      <td>2</td>\n",
       "      <td>0</td>\n",
       "      <td>12</td>\n",
       "      <td>1057</td>\n",
       "    </tr>\n",
       "    <tr>\n",
       "      <th>4</th>\n",
       "      <td>1000002</td>\n",
       "      <td>P00285442</td>\n",
       "      <td>M</td>\n",
       "      <td>55+</td>\n",
       "      <td>16</td>\n",
       "      <td>C</td>\n",
       "      <td>4+</td>\n",
       "      <td>0</td>\n",
       "      <td>8</td>\n",
       "      <td>7969</td>\n",
       "    </tr>\n",
       "  </tbody>\n",
       "</table>\n",
       "</div>"
      ],
      "text/plain": [
       "   User_ID Product_ID Gender   Age  Occupation City_Category  \\\n",
       "0  1000001  P00069042      F  0-17          10             A   \n",
       "1  1000001  P00248942      F  0-17          10             A   \n",
       "2  1000001  P00087842      F  0-17          10             A   \n",
       "3  1000001  P00085442      F  0-17          10             A   \n",
       "4  1000002  P00285442      M   55+          16             C   \n",
       "\n",
       "  Stay_In_Current_City_Years  Marital_Status  Product_Category  Purchase  \n",
       "0                          2               0                 3      8370  \n",
       "1                          2               0                 1     15200  \n",
       "2                          2               0                12      1422  \n",
       "3                          2               0                12      1057  \n",
       "4                         4+               0                 8      7969  "
      ]
     },
     "execution_count": 7,
     "metadata": {},
     "output_type": "execute_result"
    }
   ],
   "source": [
    "df.head()"
   ]
  },
  {
   "cell_type": "code",
   "execution_count": 8,
   "id": "6fe10f0f",
   "metadata": {},
   "outputs": [
    {
     "data": {
      "text/plain": [
       "Index(['User_ID', 'Product_ID', 'Gender', 'Age', 'Occupation', 'City_Category',\n",
       "       'Stay_In_Current_City_Years', 'Marital_Status', 'Product_Category',\n",
       "       'Purchase'],\n",
       "      dtype='object')"
      ]
     },
     "execution_count": 8,
     "metadata": {},
     "output_type": "execute_result"
    }
   ],
   "source": [
    "df.columns"
   ]
  },
  {
   "cell_type": "code",
   "execution_count": 9,
   "id": "0659bd85",
   "metadata": {},
   "outputs": [
    {
     "data": {
      "text/plain": [
       "User_ID                       0.0\n",
       "Product_ID                    0.0\n",
       "Gender                        0.0\n",
       "Age                           0.0\n",
       "Occupation                    0.0\n",
       "City_Category                 0.0\n",
       "Stay_In_Current_City_Years    0.0\n",
       "Marital_Status                0.0\n",
       "Product_Category              0.0\n",
       "Purchase                      0.0\n",
       "dtype: float64"
      ]
     },
     "execution_count": 9,
     "metadata": {},
     "output_type": "execute_result"
    }
   ],
   "source": [
    "df.isnull().sum()/len(df)*100"
   ]
  },
  {
   "cell_type": "markdown",
   "id": "b78acc29",
   "metadata": {},
   "source": [
    "**Observation**\n",
    "* No null values present"
   ]
  },
  {
   "cell_type": "code",
   "execution_count": 10,
   "id": "f783b652",
   "metadata": {},
   "outputs": [
    {
     "name": "stdout",
     "output_type": "stream",
     "text": [
      "<class 'pandas.core.frame.DataFrame'>\n",
      "RangeIndex: 550068 entries, 0 to 550067\n",
      "Data columns (total 10 columns):\n",
      " #   Column                      Non-Null Count   Dtype \n",
      "---  ------                      --------------   ----- \n",
      " 0   User_ID                     550068 non-null  int64 \n",
      " 1   Product_ID                  550068 non-null  object\n",
      " 2   Gender                      550068 non-null  object\n",
      " 3   Age                         550068 non-null  object\n",
      " 4   Occupation                  550068 non-null  int64 \n",
      " 5   City_Category               550068 non-null  object\n",
      " 6   Stay_In_Current_City_Years  550068 non-null  object\n",
      " 7   Marital_Status              550068 non-null  int64 \n",
      " 8   Product_Category            550068 non-null  int64 \n",
      " 9   Purchase                    550068 non-null  int64 \n",
      "dtypes: int64(5), object(5)\n",
      "memory usage: 42.0+ MB\n"
     ]
    }
   ],
   "source": [
    "df.info()"
   ]
  },
  {
   "cell_type": "code",
   "execution_count": 11,
   "id": "e3789d95",
   "metadata": {},
   "outputs": [
    {
     "data": {
      "text/html": [
       "<div>\n",
       "<style scoped>\n",
       "    .dataframe tbody tr th:only-of-type {\n",
       "        vertical-align: middle;\n",
       "    }\n",
       "\n",
       "    .dataframe tbody tr th {\n",
       "        vertical-align: top;\n",
       "    }\n",
       "\n",
       "    .dataframe thead th {\n",
       "        text-align: right;\n",
       "    }\n",
       "</style>\n",
       "<table border=\"1\" class=\"dataframe\">\n",
       "  <thead>\n",
       "    <tr style=\"text-align: right;\">\n",
       "      <th></th>\n",
       "      <th>User_ID</th>\n",
       "      <th>Occupation</th>\n",
       "      <th>Marital_Status</th>\n",
       "      <th>Product_Category</th>\n",
       "      <th>Purchase</th>\n",
       "    </tr>\n",
       "  </thead>\n",
       "  <tbody>\n",
       "    <tr>\n",
       "      <th>count</th>\n",
       "      <td>5.500680e+05</td>\n",
       "      <td>550068.000000</td>\n",
       "      <td>550068.000000</td>\n",
       "      <td>550068.000000</td>\n",
       "      <td>550068.000000</td>\n",
       "    </tr>\n",
       "    <tr>\n",
       "      <th>mean</th>\n",
       "      <td>1.003029e+06</td>\n",
       "      <td>8.076707</td>\n",
       "      <td>0.409653</td>\n",
       "      <td>5.404270</td>\n",
       "      <td>9263.968713</td>\n",
       "    </tr>\n",
       "    <tr>\n",
       "      <th>std</th>\n",
       "      <td>1.727592e+03</td>\n",
       "      <td>6.522660</td>\n",
       "      <td>0.491770</td>\n",
       "      <td>3.936211</td>\n",
       "      <td>5023.065394</td>\n",
       "    </tr>\n",
       "    <tr>\n",
       "      <th>min</th>\n",
       "      <td>1.000001e+06</td>\n",
       "      <td>0.000000</td>\n",
       "      <td>0.000000</td>\n",
       "      <td>1.000000</td>\n",
       "      <td>12.000000</td>\n",
       "    </tr>\n",
       "    <tr>\n",
       "      <th>25%</th>\n",
       "      <td>1.001516e+06</td>\n",
       "      <td>2.000000</td>\n",
       "      <td>0.000000</td>\n",
       "      <td>1.000000</td>\n",
       "      <td>5823.000000</td>\n",
       "    </tr>\n",
       "    <tr>\n",
       "      <th>50%</th>\n",
       "      <td>1.003077e+06</td>\n",
       "      <td>7.000000</td>\n",
       "      <td>0.000000</td>\n",
       "      <td>5.000000</td>\n",
       "      <td>8047.000000</td>\n",
       "    </tr>\n",
       "    <tr>\n",
       "      <th>75%</th>\n",
       "      <td>1.004478e+06</td>\n",
       "      <td>14.000000</td>\n",
       "      <td>1.000000</td>\n",
       "      <td>8.000000</td>\n",
       "      <td>12054.000000</td>\n",
       "    </tr>\n",
       "    <tr>\n",
       "      <th>max</th>\n",
       "      <td>1.006040e+06</td>\n",
       "      <td>20.000000</td>\n",
       "      <td>1.000000</td>\n",
       "      <td>20.000000</td>\n",
       "      <td>23961.000000</td>\n",
       "    </tr>\n",
       "  </tbody>\n",
       "</table>\n",
       "</div>"
      ],
      "text/plain": [
       "            User_ID     Occupation  Marital_Status  Product_Category  \\\n",
       "count  5.500680e+05  550068.000000   550068.000000     550068.000000   \n",
       "mean   1.003029e+06       8.076707        0.409653          5.404270   \n",
       "std    1.727592e+03       6.522660        0.491770          3.936211   \n",
       "min    1.000001e+06       0.000000        0.000000          1.000000   \n",
       "25%    1.001516e+06       2.000000        0.000000          1.000000   \n",
       "50%    1.003077e+06       7.000000        0.000000          5.000000   \n",
       "75%    1.004478e+06      14.000000        1.000000          8.000000   \n",
       "max    1.006040e+06      20.000000        1.000000         20.000000   \n",
       "\n",
       "            Purchase  \n",
       "count  550068.000000  \n",
       "mean     9263.968713  \n",
       "std      5023.065394  \n",
       "min        12.000000  \n",
       "25%      5823.000000  \n",
       "50%      8047.000000  \n",
       "75%     12054.000000  \n",
       "max     23961.000000  "
      ]
     },
     "execution_count": 11,
     "metadata": {},
     "output_type": "execute_result"
    }
   ],
   "source": [
    "df.describe()"
   ]
  },
  {
   "cell_type": "markdown",
   "id": "9e579b06",
   "metadata": {},
   "source": []
  },
  {
   "cell_type": "code",
   "execution_count": null,
   "id": "f06b0eb3",
   "metadata": {},
   "outputs": [],
   "source": []
  },
  {
   "cell_type": "code",
   "execution_count": null,
   "id": "b65a5967",
   "metadata": {},
   "outputs": [],
   "source": []
  },
  {
   "cell_type": "code",
   "execution_count": 12,
   "id": "2b923320",
   "metadata": {},
   "outputs": [
    {
     "data": {
      "text/plain": [
       "5891"
      ]
     },
     "execution_count": 12,
     "metadata": {},
     "output_type": "execute_result"
    }
   ],
   "source": [
    "df['User_ID'].nunique()"
   ]
  },
  {
   "cell_type": "code",
   "execution_count": 13,
   "id": "adc082ba",
   "metadata": {},
   "outputs": [
    {
     "data": {
      "text/plain": [
       "Gender\n",
       "F    1666\n",
       "M    4225\n",
       "Name: User_ID, dtype: int64"
      ]
     },
     "execution_count": 13,
     "metadata": {},
     "output_type": "execute_result"
    }
   ],
   "source": [
    "df.groupby(['Gender'])['User_ID'].nunique()"
   ]
  },
  {
   "cell_type": "code",
   "execution_count": null,
   "id": "1a0e9f88",
   "metadata": {},
   "outputs": [],
   "source": []
  },
  {
   "cell_type": "code",
   "execution_count": 14,
   "id": "d74370fa",
   "metadata": {},
   "outputs": [
    {
     "data": {
      "text/plain": [
       "Gender\n",
       "F    1186232642\n",
       "M    3909580100\n",
       "Name: Purchase, dtype: int64"
      ]
     },
     "execution_count": 14,
     "metadata": {},
     "output_type": "execute_result"
    }
   ],
   "source": [
    "df.groupby(['Gender'])['Purchase'].sum()"
   ]
  },
  {
   "cell_type": "code",
   "execution_count": null,
   "id": "f1d2461e",
   "metadata": {},
   "outputs": [],
   "source": []
  },
  {
   "cell_type": "code",
   "execution_count": 15,
   "id": "185b1f89",
   "metadata": {},
   "outputs": [
    {
     "data": {
      "text/html": [
       "<div>\n",
       "<style scoped>\n",
       "    .dataframe tbody tr th:only-of-type {\n",
       "        vertical-align: middle;\n",
       "    }\n",
       "\n",
       "    .dataframe tbody tr th {\n",
       "        vertical-align: top;\n",
       "    }\n",
       "\n",
       "    .dataframe thead th {\n",
       "        text-align: right;\n",
       "    }\n",
       "</style>\n",
       "<table border=\"1\" class=\"dataframe\">\n",
       "  <thead>\n",
       "    <tr style=\"text-align: right;\">\n",
       "      <th></th>\n",
       "      <th>count</th>\n",
       "      <th>mean</th>\n",
       "      <th>std</th>\n",
       "      <th>min</th>\n",
       "      <th>25%</th>\n",
       "      <th>50%</th>\n",
       "      <th>75%</th>\n",
       "      <th>max</th>\n",
       "    </tr>\n",
       "    <tr>\n",
       "      <th>Gender</th>\n",
       "      <th></th>\n",
       "      <th></th>\n",
       "      <th></th>\n",
       "      <th></th>\n",
       "      <th></th>\n",
       "      <th></th>\n",
       "      <th></th>\n",
       "      <th></th>\n",
       "    </tr>\n",
       "  </thead>\n",
       "  <tbody>\n",
       "    <tr>\n",
       "      <th>F</th>\n",
       "      <td>135809.0</td>\n",
       "      <td>8734.565765</td>\n",
       "      <td>4767.233289</td>\n",
       "      <td>12.0</td>\n",
       "      <td>5433.0</td>\n",
       "      <td>7914.0</td>\n",
       "      <td>11400.0</td>\n",
       "      <td>23959.0</td>\n",
       "    </tr>\n",
       "    <tr>\n",
       "      <th>M</th>\n",
       "      <td>414259.0</td>\n",
       "      <td>9437.526040</td>\n",
       "      <td>5092.186210</td>\n",
       "      <td>12.0</td>\n",
       "      <td>5863.0</td>\n",
       "      <td>8098.0</td>\n",
       "      <td>12454.0</td>\n",
       "      <td>23961.0</td>\n",
       "    </tr>\n",
       "  </tbody>\n",
       "</table>\n",
       "</div>"
      ],
      "text/plain": [
       "           count         mean          std   min     25%     50%      75%  \\\n",
       "Gender                                                                      \n",
       "F       135809.0  8734.565765  4767.233289  12.0  5433.0  7914.0  11400.0   \n",
       "M       414259.0  9437.526040  5092.186210  12.0  5863.0  8098.0  12454.0   \n",
       "\n",
       "            max  \n",
       "Gender           \n",
       "F       23959.0  \n",
       "M       23961.0  "
      ]
     },
     "execution_count": 15,
     "metadata": {},
     "output_type": "execute_result"
    }
   ],
   "source": [
    "df.groupby(['Gender'])['Purchase'].describe()"
   ]
  },
  {
   "cell_type": "markdown",
   "id": "d6761bd9",
   "metadata": {},
   "source": [
    "**Observation**\n",
    "- Mean and SD of Male and Females are almost similar but male mean and sd is slightly high"
   ]
  },
  {
   "cell_type": "code",
   "execution_count": null,
   "id": "a83ee347",
   "metadata": {},
   "outputs": [],
   "source": []
  },
  {
   "cell_type": "code",
   "execution_count": null,
   "id": "116a8804",
   "metadata": {},
   "outputs": [],
   "source": []
  },
  {
   "cell_type": "code",
   "execution_count": 16,
   "id": "e0d72af1",
   "metadata": {},
   "outputs": [
    {
     "data": {
      "text/plain": [
       "Gender\n",
       "F    8734.565765\n",
       "M    9437.526040\n",
       "Name: Purchase, dtype: float64"
      ]
     },
     "execution_count": 16,
     "metadata": {},
     "output_type": "execute_result"
    }
   ],
   "source": [
    "df.groupby(['Gender'])['Purchase'].mean()"
   ]
  },
  {
   "cell_type": "code",
   "execution_count": null,
   "id": "51fcfd30",
   "metadata": {},
   "outputs": [],
   "source": []
  },
  {
   "cell_type": "code",
   "execution_count": null,
   "id": "0b7783a0",
   "metadata": {},
   "outputs": [],
   "source": []
  },
  {
   "cell_type": "code",
   "execution_count": 17,
   "id": "bb6a09d2",
   "metadata": {},
   "outputs": [
    {
     "data": {
      "text/plain": [
       "Gender\n",
       "F    7914.0\n",
       "M    8098.0\n",
       "Name: Purchase, dtype: float64"
      ]
     },
     "execution_count": 17,
     "metadata": {},
     "output_type": "execute_result"
    }
   ],
   "source": [
    "df.groupby(['Gender'])['Purchase'].median()"
   ]
  },
  {
   "cell_type": "markdown",
   "id": "d1b1c8ad",
   "metadata": {},
   "source": [
    "**Observation**\n",
    "- Mean and Median is slightly different\n",
    "- Median is slightly low and accurate"
   ]
  },
  {
   "cell_type": "code",
   "execution_count": null,
   "id": "82870de1",
   "metadata": {},
   "outputs": [],
   "source": []
  },
  {
   "cell_type": "code",
   "execution_count": 18,
   "id": "5a6f057d",
   "metadata": {},
   "outputs": [
    {
     "data": {
      "text/plain": [
       "<AxesSubplot:xlabel='Gender', ylabel='Purchase'>"
      ]
     },
     "execution_count": 18,
     "metadata": {},
     "output_type": "execute_result"
    },
    {
     "data": {
      "image/png": "[encoded data removed]",
      "text/plain": [
       "<Figure size 432x288 with 1 Axes>"
      ]
     },
     "metadata": {
      "needs_background": "light"
     },
     "output_type": "display_data"
    }
   ],
   "source": [
    "sns.boxplot(x='Gender',y='Purchase',data=df)"
   ]
  },
  {
   "cell_type": "markdown",
   "id": "eadf23cf",
   "metadata": {},
   "source": [
    "**Observation**\n",
    "- Maximum purchase of Male and Female lies between 5000 to 13000\n",
    "- Compared to Male Outliers are high in Females"
   ]
  },
  {
   "cell_type": "code",
   "execution_count": null,
   "id": "8a6b6243",
   "metadata": {},
   "outputs": [],
   "source": []
  },
  {
   "cell_type": "code",
   "execution_count": null,
   "id": "847339cd",
   "metadata": {},
   "outputs": [],
   "source": []
  },
  {
   "cell_type": "code",
   "execution_count": 19,
   "id": "c872f786",
   "metadata": {},
   "outputs": [
    {
     "data": {
      "text/plain": [
       "<AxesSubplot:xlabel='Gender', ylabel='Product_Category'>"
      ]
     },
     "execution_count": 19,
     "metadata": {},
     "output_type": "execute_result"
    },
    {
     "data": {
      "image/png": "[encoded data removed]",
      "text/plain": [
       "<Figure size 432x288 with 1 Axes>"
      ]
     },
     "metadata": {
      "needs_background": "light"
     },
     "output_type": "display_data"
    }
   ],
   "source": [
    "sns.boxplot(x='Gender',y='Product_Category',data=df)"
   ]
  },
  {
   "cell_type": "code",
   "execution_count": null,
   "id": "5917de8d",
   "metadata": {},
   "outputs": [],
   "source": []
  },
  {
   "cell_type": "code",
   "execution_count": null,
   "id": "53f81e5b",
   "metadata": {},
   "outputs": [],
   "source": []
  },
  {
   "cell_type": "code",
   "execution_count": null,
   "id": "a2802c41",
   "metadata": {},
   "outputs": [],
   "source": []
  },
  {
   "cell_type": "code",
   "execution_count": 20,
   "id": "e3790589",
   "metadata": {},
   "outputs": [
    {
     "data": {
      "text/plain": [
       "<AxesSubplot:xlabel='City_Category', ylabel='Purchase'>"
      ]
     },
     "execution_count": 20,
     "metadata": {},
     "output_type": "execute_result"
    },
    {
     "data": {
      "image/png": "[encoded data removed]",
      "text/plain": [
       "<Figure size 432x288 with 1 Axes>"
      ]
     },
     "metadata": {
      "needs_background": "light"
     },
     "output_type": "display_data"
    }
   ],
   "source": [
    "sns.boxplot(x='City_Category',y='Purchase',data=df)"
   ]
  },
  {
   "cell_type": "code",
   "execution_count": null,
   "id": "f2f4550d",
   "metadata": {},
   "outputs": [],
   "source": []
  },
  {
   "cell_type": "code",
   "execution_count": 21,
   "id": "71ec02ed",
   "metadata": {},
   "outputs": [
    {
     "data": {
      "text/plain": [
       "<AxesSubplot:xlabel='City_Category', ylabel='Product_Category'>"
      ]
     },
     "execution_count": 21,
     "metadata": {},
     "output_type": "execute_result"
    },
    {
     "data": {
      "image/png": "[encoded data removed]",
      "text/plain": [
       "<Figure size 432x288 with 1 Axes>"
      ]
     },
     "metadata": {
      "needs_background": "light"
     },
     "output_type": "display_data"
    }
   ],
   "source": [
    "sns.boxplot(x='City_Category',y='Product_Category',data=df)"
   ]
  },
  {
   "cell_type": "code",
   "execution_count": null,
   "id": "6571487c",
   "metadata": {},
   "outputs": [],
   "source": []
  },
  {
   "cell_type": "code",
   "execution_count": null,
   "id": "2cd19f20",
   "metadata": {},
   "outputs": [],
   "source": []
  },
  {
   "cell_type": "code",
   "execution_count": 22,
   "id": "978798e6",
   "metadata": {},
   "outputs": [
    {
     "data": {
      "text/plain": [
       "<AxesSubplot:xlabel='Marital_Status', ylabel='Purchase'>"
      ]
     },
     "execution_count": 22,
     "metadata": {},
     "output_type": "execute_result"
    },
    {
     "data": {
      "image/png": "[encoded data removed]",
      "text/plain": [
       "<Figure size 432x288 with 1 Axes>"
      ]
     },
     "metadata": {
      "needs_background": "light"
     },
     "output_type": "display_data"
    }
   ],
   "source": [
    "sns.boxplot(x='Marital_Status',y='Purchase',data=df)"
   ]
  },
  {
   "cell_type": "markdown",
   "id": "ad3779ba",
   "metadata": {},
   "source": [
    "**Observation**\n",
    "- Married and Singles Purchase is Same"
   ]
  },
  {
   "cell_type": "code",
   "execution_count": null,
   "id": "ace555e4",
   "metadata": {},
   "outputs": [],
   "source": []
  },
  {
   "cell_type": "code",
   "execution_count": 23,
   "id": "f7092261",
   "metadata": {},
   "outputs": [
    {
     "data": {
      "text/plain": [
       "<AxesSubplot:xlabel='Occupation', ylabel='Purchase'>"
      ]
     },
     "execution_count": 23,
     "metadata": {},
     "output_type": "execute_result"
    },
    {
     "data": {
      "image/png": "[encoded data removed]",
      "text/plain": [
       "<Figure size 432x288 with 1 Axes>"
      ]
     },
     "metadata": {
      "needs_background": "light"
     },
     "output_type": "display_data"
    }
   ],
   "source": [
    "sns.boxplot(x='Occupation',y='Purchase',data=df)"
   ]
  },
  {
   "cell_type": "markdown",
   "id": "3b19812a",
   "metadata": {},
   "source": [
    "- Similar outliers inoccupation and purchase so no need of removing outliers"
   ]
  },
  {
   "cell_type": "code",
   "execution_count": null,
   "id": "c86224ff",
   "metadata": {},
   "outputs": [],
   "source": []
  },
  {
   "cell_type": "code",
   "execution_count": 24,
   "id": "13e412c9",
   "metadata": {},
   "outputs": [
    {
     "data": {
      "text/plain": [
       "<seaborn.axisgrid.FacetGrid at 0x273b552bc70>"
      ]
     },
     "execution_count": 24,
     "metadata": {},
     "output_type": "execute_result"
    },
    {
     "data": {
      "image/png": "[encoded data removed]",
      "text/plain": [
       "<Figure size 404.875x360 with 1 Axes>"
      ]
     },
     "metadata": {
      "needs_background": "light"
     },
     "output_type": "display_data"
    }
   ],
   "source": [
    "sns.displot(x='Purchase',hue='Gender',data=df,bins=25)"
   ]
  },
  {
   "cell_type": "markdown",
   "id": "c7fbb99d",
   "metadata": {},
   "source": [
    "- Male Purchase is high compared to female"
   ]
  },
  {
   "cell_type": "code",
   "execution_count": 25,
   "id": "f90de28d",
   "metadata": {},
   "outputs": [
    {
     "data": {
      "text/html": [
       "<div>\n",
       "<style scoped>\n",
       "    .dataframe tbody tr th:only-of-type {\n",
       "        vertical-align: middle;\n",
       "    }\n",
       "\n",
       "    .dataframe tbody tr th {\n",
       "        vertical-align: top;\n",
       "    }\n",
       "\n",
       "    .dataframe thead th {\n",
       "        text-align: right;\n",
       "    }\n",
       "</style>\n",
       "<table border=\"1\" class=\"dataframe\">\n",
       "  <thead>\n",
       "    <tr style=\"text-align: right;\">\n",
       "      <th></th>\n",
       "      <th>count</th>\n",
       "      <th>mean</th>\n",
       "      <th>std</th>\n",
       "      <th>min</th>\n",
       "      <th>25%</th>\n",
       "      <th>50%</th>\n",
       "      <th>75%</th>\n",
       "      <th>max</th>\n",
       "    </tr>\n",
       "    <tr>\n",
       "      <th>Gender</th>\n",
       "      <th></th>\n",
       "      <th></th>\n",
       "      <th></th>\n",
       "      <th></th>\n",
       "      <th></th>\n",
       "      <th></th>\n",
       "      <th></th>\n",
       "      <th></th>\n",
       "    </tr>\n",
       "  </thead>\n",
       "  <tbody>\n",
       "    <tr>\n",
       "      <th>F</th>\n",
       "      <td>135809.0</td>\n",
       "      <td>8734.565765</td>\n",
       "      <td>4767.233289</td>\n",
       "      <td>12.0</td>\n",
       "      <td>5433.0</td>\n",
       "      <td>7914.0</td>\n",
       "      <td>11400.0</td>\n",
       "      <td>23959.0</td>\n",
       "    </tr>\n",
       "    <tr>\n",
       "      <th>M</th>\n",
       "      <td>414259.0</td>\n",
       "      <td>9437.526040</td>\n",
       "      <td>5092.186210</td>\n",
       "      <td>12.0</td>\n",
       "      <td>5863.0</td>\n",
       "      <td>8098.0</td>\n",
       "      <td>12454.0</td>\n",
       "      <td>23961.0</td>\n",
       "    </tr>\n",
       "  </tbody>\n",
       "</table>\n",
       "</div>"
      ],
      "text/plain": [
       "           count         mean          std   min     25%     50%      75%  \\\n",
       "Gender                                                                      \n",
       "F       135809.0  8734.565765  4767.233289  12.0  5433.0  7914.0  11400.0   \n",
       "M       414259.0  9437.526040  5092.186210  12.0  5863.0  8098.0  12454.0   \n",
       "\n",
       "            max  \n",
       "Gender           \n",
       "F       23959.0  \n",
       "M       23961.0  "
      ]
     },
     "execution_count": 25,
     "metadata": {},
     "output_type": "execute_result"
    }
   ],
   "source": [
    "df.groupby(['Gender'])['Purchase'].describe()"
   ]
  },
  {
   "cell_type": "markdown",
   "id": "35219d8e",
   "metadata": {},
   "source": [
    "- There is lot of varie in mean and median in gender and purchase"
   ]
  },
  {
   "cell_type": "code",
   "execution_count": null,
   "id": "d0bd44db",
   "metadata": {},
   "outputs": [],
   "source": []
  },
  {
   "cell_type": "code",
   "execution_count": 26,
   "id": "5746fbb7",
   "metadata": {},
   "outputs": [
    {
     "data": {
      "text/html": [
       "<div>\n",
       "<style scoped>\n",
       "    .dataframe tbody tr th:only-of-type {\n",
       "        vertical-align: middle;\n",
       "    }\n",
       "\n",
       "    .dataframe tbody tr th {\n",
       "        vertical-align: top;\n",
       "    }\n",
       "\n",
       "    .dataframe thead th {\n",
       "        text-align: right;\n",
       "    }\n",
       "</style>\n",
       "<table border=\"1\" class=\"dataframe\">\n",
       "  <thead>\n",
       "    <tr style=\"text-align: right;\">\n",
       "      <th></th>\n",
       "      <th>count</th>\n",
       "      <th>mean</th>\n",
       "      <th>std</th>\n",
       "      <th>min</th>\n",
       "      <th>25%</th>\n",
       "      <th>50%</th>\n",
       "      <th>75%</th>\n",
       "      <th>max</th>\n",
       "    </tr>\n",
       "    <tr>\n",
       "      <th>Gender</th>\n",
       "      <th></th>\n",
       "      <th></th>\n",
       "      <th></th>\n",
       "      <th></th>\n",
       "      <th></th>\n",
       "      <th></th>\n",
       "      <th></th>\n",
       "      <th></th>\n",
       "    </tr>\n",
       "  </thead>\n",
       "  <tbody>\n",
       "    <tr>\n",
       "      <th>F</th>\n",
       "      <td>63.0</td>\n",
       "      <td>8484.809524</td>\n",
       "      <td>4643.490132</td>\n",
       "      <td>363.0</td>\n",
       "      <td>5672.0</td>\n",
       "      <td>7945.0</td>\n",
       "      <td>11104.0</td>\n",
       "      <td>20205.0</td>\n",
       "    </tr>\n",
       "    <tr>\n",
       "      <th>M</th>\n",
       "      <td>237.0</td>\n",
       "      <td>9491.502110</td>\n",
       "      <td>4928.011327</td>\n",
       "      <td>406.0</td>\n",
       "      <td>5998.0</td>\n",
       "      <td>8084.0</td>\n",
       "      <td>12067.0</td>\n",
       "      <td>20777.0</td>\n",
       "    </tr>\n",
       "  </tbody>\n",
       "</table>\n",
       "</div>"
      ],
      "text/plain": [
       "        count         mean          std    min     25%     50%      75%  \\\n",
       "Gender                                                                    \n",
       "F        63.0  8484.809524  4643.490132  363.0  5672.0  7945.0  11104.0   \n",
       "M       237.0  9491.502110  4928.011327  406.0  5998.0  8084.0  12067.0   \n",
       "\n",
       "            max  \n",
       "Gender           \n",
       "F       20205.0  \n",
       "M       20777.0  "
      ]
     },
     "execution_count": 26,
     "metadata": {},
     "output_type": "execute_result"
    }
   ],
   "source": [
    "df.sample(300).groupby(['Gender'])['Purchase'].describe()"
   ]
  },
  {
   "cell_type": "code",
   "execution_count": null,
   "id": "707c934e",
   "metadata": {},
   "outputs": [],
   "source": []
  },
  {
   "cell_type": "code",
   "execution_count": null,
   "id": "19eff31c",
   "metadata": {},
   "outputs": [],
   "source": []
  },
  {
   "cell_type": "code",
   "execution_count": 27,
   "id": "5bb243f4",
   "metadata": {},
   "outputs": [
    {
     "data": {
      "text/html": [
       "<div>\n",
       "<style scoped>\n",
       "    .dataframe tbody tr th:only-of-type {\n",
       "        vertical-align: middle;\n",
       "    }\n",
       "\n",
       "    .dataframe tbody tr th {\n",
       "        vertical-align: top;\n",
       "    }\n",
       "\n",
       "    .dataframe thead th {\n",
       "        text-align: right;\n",
       "    }\n",
       "</style>\n",
       "<table border=\"1\" class=\"dataframe\">\n",
       "  <thead>\n",
       "    <tr style=\"text-align: right;\">\n",
       "      <th></th>\n",
       "      <th>User_ID</th>\n",
       "      <th>Occupation</th>\n",
       "      <th>Marital_Status</th>\n",
       "      <th>Product_Category</th>\n",
       "      <th>Purchase</th>\n",
       "    </tr>\n",
       "  </thead>\n",
       "  <tbody>\n",
       "    <tr>\n",
       "      <th>User_ID</th>\n",
       "      <td>1.000000</td>\n",
       "      <td>-0.023971</td>\n",
       "      <td>0.020443</td>\n",
       "      <td>0.003825</td>\n",
       "      <td>0.004716</td>\n",
       "    </tr>\n",
       "    <tr>\n",
       "      <th>Occupation</th>\n",
       "      <td>-0.023971</td>\n",
       "      <td>1.000000</td>\n",
       "      <td>0.024280</td>\n",
       "      <td>-0.007618</td>\n",
       "      <td>0.020833</td>\n",
       "    </tr>\n",
       "    <tr>\n",
       "      <th>Marital_Status</th>\n",
       "      <td>0.020443</td>\n",
       "      <td>0.024280</td>\n",
       "      <td>1.000000</td>\n",
       "      <td>0.019888</td>\n",
       "      <td>-0.000463</td>\n",
       "    </tr>\n",
       "    <tr>\n",
       "      <th>Product_Category</th>\n",
       "      <td>0.003825</td>\n",
       "      <td>-0.007618</td>\n",
       "      <td>0.019888</td>\n",
       "      <td>1.000000</td>\n",
       "      <td>-0.343703</td>\n",
       "    </tr>\n",
       "    <tr>\n",
       "      <th>Purchase</th>\n",
       "      <td>0.004716</td>\n",
       "      <td>0.020833</td>\n",
       "      <td>-0.000463</td>\n",
       "      <td>-0.343703</td>\n",
       "      <td>1.000000</td>\n",
       "    </tr>\n",
       "  </tbody>\n",
       "</table>\n",
       "</div>"
      ],
      "text/plain": [
       "                   User_ID  Occupation  Marital_Status  Product_Category  \\\n",
       "User_ID           1.000000   -0.023971        0.020443          0.003825   \n",
       "Occupation       -0.023971    1.000000        0.024280         -0.007618   \n",
       "Marital_Status    0.020443    0.024280        1.000000          0.019888   \n",
       "Product_Category  0.003825   -0.007618        0.019888          1.000000   \n",
       "Purchase          0.004716    0.020833       -0.000463         -0.343703   \n",
       "\n",
       "                  Purchase  \n",
       "User_ID           0.004716  \n",
       "Occupation        0.020833  \n",
       "Marital_Status   -0.000463  \n",
       "Product_Category -0.343703  \n",
       "Purchase          1.000000  "
      ]
     },
     "execution_count": 27,
     "metadata": {},
     "output_type": "execute_result"
    }
   ],
   "source": [
    "df.corr()"
   ]
  },
  {
   "cell_type": "code",
   "execution_count": null,
   "id": "8db767e8",
   "metadata": {},
   "outputs": [],
   "source": []
  },
  {
   "cell_type": "code",
   "execution_count": 28,
   "id": "b8e5d242",
   "metadata": {},
   "outputs": [
    {
     "data": {
      "text/plain": [
       "<AxesSubplot:>"
      ]
     },
     "execution_count": 28,
     "metadata": {},
     "output_type": "execute_result"
    },
    {
     "data": {
      "image/png": "[encoded data removed]",
      "text/plain": [
       "<Figure size 432x288 with 2 Axes>"
      ]
     },
     "metadata": {
      "needs_background": "light"
     },
     "output_type": "display_data"
    }
   ],
   "source": [
    "sns.heatmap(df.corr(),annot=True)"
   ]
  },
  {
   "cell_type": "markdown",
   "id": "cb1de439",
   "metadata": {},
   "source": [
    "- Correlation is not good between the attributes as can see in graph"
   ]
  },
  {
   "cell_type": "code",
   "execution_count": null,
   "id": "2db50211",
   "metadata": {},
   "outputs": [],
   "source": []
  },
  {
   "cell_type": "code",
   "execution_count": 29,
   "id": "c8e02a8f",
   "metadata": {},
   "outputs": [
    {
     "data": {
      "text/plain": [
       "<AxesSubplot:xlabel='Age', ylabel='Purchase'>"
      ]
     },
     "execution_count": 29,
     "metadata": {},
     "output_type": "execute_result"
    },
    {
     "data": {
      "image/png": "[encoded data removed]",
      "text/plain": [
       "<Figure size 432x288 with 1 Axes>"
      ]
     },
     "metadata": {
      "needs_background": "light"
     },
     "output_type": "display_data"
    }
   ],
   "source": [
    "sns.barplot(x='Age',y='Purchase',hue='Gender',data=df)"
   ]
  },
  {
   "cell_type": "markdown",
   "id": "908c34fa",
   "metadata": {},
   "source": [
    "- According to this graph males spend more compared to females"
   ]
  },
  {
   "cell_type": "markdown",
   "id": "3f86b210",
   "metadata": {},
   "source": []
  },
  {
   "cell_type": "markdown",
   "id": "391cb39f",
   "metadata": {},
   "source": [
    "## CLT (Central Limit Theorem)"
   ]
  },
  {
   "cell_type": "code",
   "execution_count": 30,
   "id": "52333122",
   "metadata": {},
   "outputs": [],
   "source": [
    "# Using 300 sample data and converting into range of 1000 data\n",
    "male_expenses_mean=[df[df['Gender']=='M']['Purchase'].sample(300).mean() for i in range(1000)]"
   ]
  },
  {
   "cell_type": "code",
   "execution_count": null,
   "id": "0b80b51c",
   "metadata": {},
   "outputs": [],
   "source": []
  },
  {
   "cell_type": "code",
   "execution_count": 31,
   "id": "dab87a39",
   "metadata": {},
   "outputs": [],
   "source": [
    "married_expenses_mean=[df[df['Marital_Status']==1]['Purchase'].sample(300).mean() for i in range(1000)]"
   ]
  },
  {
   "cell_type": "code",
   "execution_count": 32,
   "id": "567b1032",
   "metadata": {},
   "outputs": [
    {
     "data": {
      "text/plain": [
       "1000"
      ]
     },
     "execution_count": 32,
     "metadata": {},
     "output_type": "execute_result"
    }
   ],
   "source": [
    "# 1000 rows of male expenses mean\n",
    "len(married_expenses_mean)"
   ]
  },
  {
   "cell_type": "code",
   "execution_count": 33,
   "id": "8c36740c",
   "metadata": {},
   "outputs": [
    {
     "data": {
      "text/plain": [
       "1000"
      ]
     },
     "execution_count": 33,
     "metadata": {},
     "output_type": "execute_result"
    }
   ],
   "source": [
    "# 1000 rows of male expenses mean\n",
    "len(male_expenses_mean)"
   ]
  },
  {
   "cell_type": "code",
   "execution_count": null,
   "id": "248094e1",
   "metadata": {},
   "outputs": [],
   "source": []
  },
  {
   "cell_type": "code",
   "execution_count": null,
   "id": "9b33a51c",
   "metadata": {},
   "outputs": [],
   "source": [
    "# Using 300 sample data and converting into range of 1000 data\n",
    "female_expenses_mean=[df[df['Gender']=='F']['Purchase'].sample(300).mean() for i in range(1000)]"
   ]
  },
  {
   "cell_type": "code",
   "execution_count": null,
   "id": "1ce33c59",
   "metadata": {},
   "outputs": [],
   "source": []
  },
  {
   "cell_type": "code",
   "execution_count": null,
   "id": "4d38ff85",
   "metadata": {},
   "outputs": [],
   "source": [
    "# Using 300 sample data and converting into range of 1000 data\n",
    "Single_expenses_mean=[df[df['Marital_Status']==0]['Purchase'].sample(300).mean() for i in range(1000)]"
   ]
  },
  {
   "cell_type": "code",
   "execution_count": null,
   "id": "f75b56ec",
   "metadata": {},
   "outputs": [],
   "source": [
    "len(Single_expenses_mean)"
   ]
  },
  {
   "cell_type": "code",
   "execution_count": null,
   "id": "642ce9be",
   "metadata": {},
   "outputs": [],
   "source": []
  },
  {
   "cell_type": "markdown",
   "id": "21cff42c",
   "metadata": {},
   "source": [
    "## Gender"
   ]
  },
  {
   "cell_type": "code",
   "execution_count": null,
   "id": "290fed60",
   "metadata": {},
   "outputs": [],
   "source": [
    "# Plotting displot of male expenses mean which was extracted from sample data\n",
    "sns.displot(male_expenses_mean,bins=100, kde=True)"
   ]
  },
  {
   "cell_type": "markdown",
   "id": "61f69c70",
   "metadata": {},
   "source": [
    "**Observation**\n",
    "- The graph shows its a normal distribution"
   ]
  },
  {
   "cell_type": "code",
   "execution_count": null,
   "id": "62c5a49c",
   "metadata": {},
   "outputs": [],
   "source": []
  },
  {
   "cell_type": "code",
   "execution_count": null,
   "id": "f9dcd5bc",
   "metadata": {},
   "outputs": [],
   "source": [
    "# Plotting displot of female expenses mean which was extracted from sample data\n",
    "\n",
    "sns.displot(female_expenses_mean,bins=100, kde=True)"
   ]
  },
  {
   "cell_type": "markdown",
   "id": "b4c7a8ef",
   "metadata": {},
   "source": [
    "**Observation**\n",
    "- This graph also shows its a clear normal distribution"
   ]
  },
  {
   "cell_type": "code",
   "execution_count": null,
   "id": "e31c24e1",
   "metadata": {},
   "outputs": [],
   "source": []
  },
  {
   "cell_type": "code",
   "execution_count": null,
   "id": "4ac620e4",
   "metadata": {},
   "outputs": [],
   "source": [
    "pd.Series(male_expenses_mean).mean()"
   ]
  },
  {
   "cell_type": "code",
   "execution_count": null,
   "id": "273e1a77",
   "metadata": {},
   "outputs": [],
   "source": [
    "pd.Series(male_expenses_mean).std()"
   ]
  },
  {
   "cell_type": "code",
   "execution_count": null,
   "id": "c0b858dd",
   "metadata": {},
   "outputs": [],
   "source": []
  },
  {
   "cell_type": "code",
   "execution_count": null,
   "id": "87116e2c",
   "metadata": {},
   "outputs": [],
   "source": [
    "pd.Series(female_expenses_mean).mean()"
   ]
  },
  {
   "cell_type": "code",
   "execution_count": null,
   "id": "6da881ac",
   "metadata": {},
   "outputs": [],
   "source": [
    "pd.Series(female_expenses_mean).std()"
   ]
  },
  {
   "cell_type": "code",
   "execution_count": null,
   "id": "4fb5f670",
   "metadata": {},
   "outputs": [],
   "source": []
  },
  {
   "cell_type": "code",
   "execution_count": null,
   "id": "687e74a1",
   "metadata": {},
   "outputs": [],
   "source": []
  },
  {
   "cell_type": "code",
   "execution_count": null,
   "id": "e87aeecc",
   "metadata": {},
   "outputs": [],
   "source": [
    "# Finding the lower limit of male\n",
    "lower_limit_males=pd.Series(male_expenses_mean).mean()-(pd.Series(male_expenses_mean).std()/np.sqrt(1000))*1.96"
   ]
  },
  {
   "cell_type": "code",
   "execution_count": null,
   "id": "50d2d0c6",
   "metadata": {},
   "outputs": [],
   "source": [
    "# Finding the upper limit of male\n",
    "\n",
    "upper_limit_males=pd.Series(male_expenses_mean).mean()+(pd.Series(male_expenses_mean).std()/np.sqrt(1000))*1.96"
   ]
  },
  {
   "cell_type": "code",
   "execution_count": null,
   "id": "dc019215",
   "metadata": {},
   "outputs": [],
   "source": []
  },
  {
   "cell_type": "code",
   "execution_count": null,
   "id": "d34f09e7",
   "metadata": {},
   "outputs": [],
   "source": [
    "# differnce between the lower limit and upper limit\n",
    "lower_limit_males,upper_limit_males"
   ]
  },
  {
   "cell_type": "markdown",
   "id": "279903b1",
   "metadata": {},
   "source": [
    "- With 95% confidence we can say Mean of Male Population is between this lower limit and upper limit"
   ]
  },
  {
   "cell_type": "code",
   "execution_count": null,
   "id": "feb6c55b",
   "metadata": {},
   "outputs": [],
   "source": [
    "# Finding the lower limit of female\n",
    "\n",
    "lower_limit_females=pd.Series(female_expenses_mean).mean()-(pd.Series(female_expenses_mean).std()/np.sqrt(1000))*1.96"
   ]
  },
  {
   "cell_type": "code",
   "execution_count": null,
   "id": "b5d32bde",
   "metadata": {},
   "outputs": [],
   "source": [
    "# Finding the upper limit of female\n",
    "\n",
    "upper_limit_females=pd.Series(female_expenses_mean).mean()+(pd.Series(female_expenses_mean).std()/np.sqrt(1000))*1.96"
   ]
  },
  {
   "cell_type": "code",
   "execution_count": null,
   "id": "2e4a94ad",
   "metadata": {},
   "outputs": [],
   "source": []
  },
  {
   "cell_type": "code",
   "execution_count": null,
   "id": "9b73db9f",
   "metadata": {},
   "outputs": [],
   "source": [
    "# differnce between the lower limit and upper limit\n",
    "\n",
    "lower_limit_females,upper_limit_females"
   ]
  },
  {
   "cell_type": "markdown",
   "id": "8536dee0",
   "metadata": {},
   "source": [
    "- With 95% confidence we can say Mean of female Population is between this lower limit and upper limit"
   ]
  },
  {
   "cell_type": "markdown",
   "id": "dbcd866a",
   "metadata": {},
   "source": [
    "## Marital_Status"
   ]
  },
  {
   "cell_type": "code",
   "execution_count": null,
   "id": "66d43425",
   "metadata": {},
   "outputs": [],
   "source": [
    "# Plotting displot of Married expenses mean which was extracted from sample data\n",
    "sns.displot(married_expenses_mean,bins=100, kde=True)"
   ]
  },
  {
   "cell_type": "markdown",
   "id": "e1da1146",
   "metadata": {},
   "source": [
    "- Graph is not in a proper Normal distribution\n",
    "- Spread of the data is not proper"
   ]
  },
  {
   "cell_type": "code",
   "execution_count": null,
   "id": "9169dd4a",
   "metadata": {},
   "outputs": [],
   "source": []
  },
  {
   "cell_type": "code",
   "execution_count": null,
   "id": "bfde190a",
   "metadata": {},
   "outputs": [],
   "source": [
    "# Plotting displot of Singles expenses mean which was extracted from sample data\n",
    "sns.displot(Single_expenses_mean,bins=100, kde=True)"
   ]
  },
  {
   "cell_type": "markdown",
   "id": "e3774902",
   "metadata": {},
   "source": [
    "- Not a Proper Normal distribution "
   ]
  },
  {
   "cell_type": "code",
   "execution_count": null,
   "id": "d65db6f8",
   "metadata": {},
   "outputs": [],
   "source": [
    "pd.Series(married_expenses_mean).mean()"
   ]
  },
  {
   "cell_type": "code",
   "execution_count": null,
   "id": "fdb47f5e",
   "metadata": {},
   "outputs": [],
   "source": [
    "pd.Series(married_expenses_mean).std()"
   ]
  },
  {
   "cell_type": "code",
   "execution_count": null,
   "id": "ced7125a",
   "metadata": {},
   "outputs": [],
   "source": [
    "pd.Series(Single_expenses_mean).mean()"
   ]
  },
  {
   "cell_type": "code",
   "execution_count": null,
   "id": "be8fc098",
   "metadata": {},
   "outputs": [],
   "source": [
    "pd.Series(Single_expenses_mean).std()"
   ]
  },
  {
   "cell_type": "markdown",
   "id": "42caf919",
   "metadata": {},
   "source": []
  },
  {
   "cell_type": "code",
   "execution_count": null,
   "id": "35414e28",
   "metadata": {},
   "outputs": [],
   "source": [
    "# Finding the lower limit of married\n",
    "lower_limit_married=pd.Series(married_expenses_mean).mean()-(pd.Series(married_expenses_mean).std()/np.sqrt(1000))*1.96"
   ]
  },
  {
   "cell_type": "code",
   "execution_count": null,
   "id": "c81cdc7a",
   "metadata": {},
   "outputs": [],
   "source": [
    "# Finding the upper limit of married\n",
    "upper_limit_married=pd.Series(married_expenses_mean).mean()+(pd.Series(married_expenses_mean).std()/np.sqrt(1000))*1.96"
   ]
  },
  {
   "cell_type": "code",
   "execution_count": null,
   "id": "9d2734e5",
   "metadata": {},
   "outputs": [],
   "source": []
  },
  {
   "cell_type": "code",
   "execution_count": null,
   "id": "ef1ea473",
   "metadata": {},
   "outputs": [],
   "source": [
    "# Diffrence between married ones upper limit and lower limit\n",
    "lower_limit_married,upper_limit_married"
   ]
  },
  {
   "cell_type": "markdown",
   "id": "c0e6c50f",
   "metadata": {},
   "source": [
    "- With 95% confidence we can say Mean of Married Population is between this lower limit and upper limit"
   ]
  },
  {
   "cell_type": "code",
   "execution_count": null,
   "id": "e10e3425",
   "metadata": {},
   "outputs": [],
   "source": [
    "# Finding the lower limit of Singles\n",
    "lower_limit_Single=pd.Series(Single_expenses_mean).mean()-(pd.Series(Single_expenses_mean).std()/np.sqrt(1000))*1.96"
   ]
  },
  {
   "cell_type": "code",
   "execution_count": null,
   "id": "90c9adb5",
   "metadata": {},
   "outputs": [],
   "source": [
    "# Finding the upper limit of married\n",
    "upper_limit_Single=pd.Series(Single_expenses_mean).mean()+(pd.Series(Single_expenses_mean).std()/np.sqrt(1000))*1.96"
   ]
  },
  {
   "cell_type": "code",
   "execution_count": null,
   "id": "3777563e",
   "metadata": {},
   "outputs": [],
   "source": []
  },
  {
   "cell_type": "code",
   "execution_count": null,
   "id": "ed7ed328",
   "metadata": {},
   "outputs": [],
   "source": []
  },
  {
   "cell_type": "code",
   "execution_count": null,
   "id": "8d059d78",
   "metadata": {},
   "outputs": [],
   "source": [
    "# Diffrence between married ones upper limit and lower limit\n",
    "lower_limit_Single,upper_limit_Single"
   ]
  },
  {
   "cell_type": "markdown",
   "id": "b32ab91e",
   "metadata": {},
   "source": [
    "- With 95% confidence we can say Mean of Singles Population is between this lower limit and upper limit"
   ]
  },
  {
   "cell_type": "code",
   "execution_count": null,
   "id": "a7d305f3",
   "metadata": {},
   "outputs": [],
   "source": []
  },
  {
   "cell_type": "code",
   "execution_count": null,
   "id": "e08c6d1b",
   "metadata": {},
   "outputs": [],
   "source": []
  },
  {
   "cell_type": "markdown",
   "id": "10ff0a2b",
   "metadata": {},
   "source": [
    "**Answering the Questions**\n",
    "- According to the Analization Womens are not Spending more money per transaction than men.\n",
    "- Mens spending more money per transaction as their salary is more, Womes Salary is not as much as men so that must be one of the reason\n",
    "- With 95% confidence we can say that the lower_limit and the upper_limit of the male and female is almost similar but male Confidence interval is slightly more but that is also negligible amount.\n",
    "- Yes, According to Analization Confidence intervals of average male and female spending os overlapping, So walmart must work on the beneficial  Offer for both men and women.\n",
    "- ith 95% confidence we can say that the lower_limit and the upper_limit of the married and Singles is almost similar as male and female. "
   ]
  },
  {
   "cell_type": "code",
   "execution_count": null,
   "id": "162da7dc",
   "metadata": {},
   "outputs": [],
   "source": []
  },
  {
   "cell_type": "markdown",
   "id": "56045a1c",
   "metadata": {},
   "source": [
    "**Recomendations**\n",
    "- Walmart must think about the offers benefitial for both male and female so that they can maintain the ratio of purchase between male and female\n",
    "- Walmart must focus on releasing the more products related to women so that the spending of women can increase. \n",
    "- So in order to do so walmart can go with offers on Cosmetic products, that may lead the womens to spend more in Walmart."
   ]
  },
  {
   "cell_type": "code",
   "execution_count": null,
   "id": "4a2cd03a",
   "metadata": {},
   "outputs": [],
   "source": []
  }
 ],
 "metadata": {
  "kernelspec": {
   "display_name": "Python 3 (ipykernel)",
   "language": "python",
   "name": "python3"
  },
  "language_info": {
   "codemirror_mode": {
    "name": "ipython",
    "version": 3
   },
   "file_extension": ".py",
   "mimetype": "text/x-python",
   "name": "python",
   "nbconvert_exporter": "python",
   "pygments_lexer": "ipython3",
   "version": "3.9.7"
  }
 },
 "nbformat": 4,
 "nbformat_minor": 5
}
